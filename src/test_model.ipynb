{
 "cells": [
  {
   "cell_type": "code",
   "execution_count": 1,
   "metadata": {},
   "outputs": [],
   "source": [
    "import pandas as pd"
   ]
  },
  {
   "cell_type": "code",
   "execution_count": 2,
   "metadata": {},
   "outputs": [],
   "source": [
    "market = pd.read_csv('../data/estaticos_market.csv')"
   ]
  },
  {
   "cell_type": "code",
   "execution_count": 3,
   "metadata": {},
   "outputs": [],
   "source": [
    "client1 = pd.read_csv('../output/client1.csv')\n",
    "client2 = pd.read_csv('../output/client2.csv')\n",
    "client3 = pd.read_csv('../output/client3.csv')"
   ]
  },
  {
   "cell_type": "code",
   "execution_count": 4,
   "metadata": {},
   "outputs": [],
   "source": [
    "client1 = market.merge(client1['id'], indicator=True, how='outer')\n",
    "client1 = client1[client1['_merge'] == 'both']\n",
    "client2 = market.merge(client2['id'], indicator=True, how='outer')\n",
    "client2 = client2[client2['_merge'] == 'both']\n",
    "client3 = market.merge(client3['id'], indicator=True, how='outer')\n",
    "client3 = client3[client3['_merge'] == 'both']"
   ]
  },
  {
   "cell_type": "code",
   "execution_count": 5,
   "metadata": {},
   "outputs": [],
   "source": [
    "portfolio_1 = pd.read_csv('../data/estaticos_portfolio1.csv')\n",
    "portfolio_2 = pd.read_csv('../data/estaticos_portfolio2.csv')\n",
    "portfolio_3 = pd.read_csv('../data/estaticos_portfolio3.csv')"
   ]
  },
  {
   "cell_type": "code",
   "execution_count": 6,
   "metadata": {},
   "outputs": [],
   "source": [
    "portfolio_1 = market.merge(portfolio_1['id'], indicator=True, how='outer')\n",
    "portfolio_1 = portfolio_1[portfolio_1['_merge'] == 'both']\n",
    "portfolio_2 = market.merge(portfolio_2['id'], indicator=True, how='outer')\n",
    "portfolio_2 = portfolio_2[portfolio_2['_merge'] == 'both']\n",
    "portfolio_3 = market.merge(portfolio_3['id'], indicator=True, how='outer')\n",
    "portfolio_3 = portfolio_3[portfolio_3['_merge'] == 'both']"
   ]
  },
  {
   "cell_type": "code",
   "execution_count": 7,
   "metadata": {},
   "outputs": [
    {
     "data": {
      "text/plain": [
       "EMPRESARIO INDIVIDUAL                                                     6101\n",
       "SOCIEDADE EMPRESARIA LIMITADA                                              284\n",
       "EMPRESA INDIVIDUAL DE RESPONSABILIDADE LIMITADA DE NATUREZA EMPRESARIA      90\n",
       "ASSOCIACAO PRIVADA                                                           5\n",
       "SOCIEDADE ANONIMA FECHADA                                                    2\n",
       "SOCIEDADE ANONIMA ABERTA                                                     1\n",
       "Name: de_natureza_juridica, dtype: int64"
      ]
     },
     "execution_count": 7,
     "metadata": {},
     "output_type": "execute_result"
    }
   ],
   "source": [
    "client1.de_natureza_juridica.value_counts()"
   ]
  },
  {
   "cell_type": "code",
   "execution_count": 8,
   "metadata": {},
   "outputs": [
    {
     "data": {
      "text/plain": [
       "EMPRESARIO INDIVIDUAL                                                     432\n",
       "SOCIEDADE EMPRESARIA LIMITADA                                             105\n",
       "EMPRESA INDIVIDUAL DE RESPONSABILIDADE LIMITADA DE NATUREZA EMPRESARIA     15\n",
       "SOCIEDADE EMPRESARIA EM NOME COLETIVO                                       1\n",
       "SOCIEDADE ANONIMA FECHADA                                                   1\n",
       "SOCIEDADE EM CONTA DE PARTICIPACAO                                          1\n",
       "Name: de_natureza_juridica, dtype: int64"
      ]
     },
     "execution_count": 8,
     "metadata": {},
     "output_type": "execute_result"
    }
   ],
   "source": [
    "portfolio_1.de_natureza_juridica.value_counts()"
   ]
  },
  {
   "cell_type": "code",
   "execution_count": 9,
   "metadata": {},
   "outputs": [
    {
     "data": {
      "text/plain": [
       "COMERCIO VAREJISTA                  5975\n",
       "COMERCIO POR ATACADO                 269\n",
       "COMERCIO E REPARACAO DE VEICULOS     220\n",
       "PRODUTOS DE AGROPECUARIA              19\n",
       "Name: de_ramo, dtype: int64"
      ]
     },
     "execution_count": 9,
     "metadata": {},
     "output_type": "execute_result"
    }
   ],
   "source": [
    "client1.de_ramo.value_counts()"
   ]
  },
  {
   "cell_type": "code",
   "execution_count": 10,
   "metadata": {},
   "outputs": [
    {
     "data": {
      "text/plain": [
       "COMERCIO VAREJISTA    496\n",
       "BENS DE CONSUMO        59\n",
       "Name: de_ramo, dtype: int64"
      ]
     },
     "execution_count": 10,
     "metadata": {},
     "output_type": "execute_result"
    }
   ],
   "source": [
    "portfolio_1.de_ramo.value_counts()"
   ]
  },
  {
   "cell_type": "code",
   "execution_count": 11,
   "metadata": {},
   "outputs": [
    {
     "data": {
      "text/plain": [
       "COMERCIO        6464\n",
       "AGROPECUARIA      19\n",
       "Name: setor, dtype: int64"
      ]
     },
     "execution_count": 11,
     "metadata": {},
     "output_type": "execute_result"
    }
   ],
   "source": [
    "client1.setor.value_counts()"
   ]
  },
  {
   "cell_type": "code",
   "execution_count": 12,
   "metadata": {},
   "outputs": [
    {
     "data": {
      "text/plain": [
       "COMERCIO     496\n",
       "INDUSTRIA     52\n",
       "SERVIÇO        7\n",
       "Name: setor, dtype: int64"
      ]
     },
     "execution_count": 12,
     "metadata": {},
     "output_type": "execute_result"
    }
   ],
   "source": [
    "portfolio_1.setor.value_counts()"
   ]
  },
  {
   "cell_type": "code",
   "execution_count": 13,
   "metadata": {},
   "outputs": [
    {
     "data": {
      "text/plain": [
       "DE R$ 81.000,01 A R$ 360.000,00         3943\n",
       "ATE R$ 81.000,00                        2421\n",
       "DE R$ 360.000,01 A R$ 1.500.000,00        54\n",
       "DE R$ 1.500.000,01 A R$ 4.800.000,00      46\n",
       "SEM INFORMACAO                             3\n",
       "Name: de_faixa_faturamento_estimado, dtype: int64"
      ]
     },
     "execution_count": 13,
     "metadata": {},
     "output_type": "execute_result"
    }
   ],
   "source": [
    "client1.de_faixa_faturamento_estimado.value_counts()"
   ]
  },
  {
   "cell_type": "code",
   "execution_count": 14,
   "metadata": {},
   "outputs": [
    {
     "data": {
      "text/plain": [
       "DE R$ 81.000,01 A R$ 360.000,00           325\n",
       "ATE R$ 81.000,00                          144\n",
       "DE R$ 360.000,01 A R$ 1.500.000,00         41\n",
       "DE R$ 1.500.000,01 A R$ 4.800.000,00       16\n",
       "SEM INFORMACAO                              2\n",
       "DE R$ 4.800.000,01 A R$ 10.000.000,00       1\n",
       "DE R$ 10.000.000,01 A R$ 30.000.000,00      1\n",
       "Name: de_faixa_faturamento_estimado, dtype: int64"
      ]
     },
     "execution_count": 14,
     "metadata": {},
     "output_type": "execute_result"
    }
   ],
   "source": [
    "portfolio_1.de_faixa_faturamento_estimado.value_counts()"
   ]
  },
  {
   "cell_type": "code",
   "execution_count": 15,
   "metadata": {},
   "outputs": [
    {
     "data": {
      "text/plain": [
       "MA    3217\n",
       "AM    1978\n",
       "PI    1071\n",
       "RN     112\n",
       "RO     101\n",
       "AC       4\n",
       "Name: sg_uf, dtype: int64"
      ]
     },
     "execution_count": 15,
     "metadata": {},
     "output_type": "execute_result"
    }
   ],
   "source": [
    "client1.sg_uf.value_counts()"
   ]
  },
  {
   "cell_type": "code",
   "execution_count": 16,
   "metadata": {},
   "outputs": [
    {
     "data": {
      "text/plain": [
       "MA    157\n",
       "RN    116\n",
       "PI    103\n",
       "AM     94\n",
       "RO     64\n",
       "AC     21\n",
       "Name: sg_uf, dtype: int64"
      ]
     },
     "execution_count": 16,
     "metadata": {},
     "output_type": "execute_result"
    }
   ],
   "source": [
    "portfolio_1.sg_uf.value_counts()"
   ]
  },
  {
   "cell_type": "code",
   "execution_count": 20,
   "metadata": {},
   "outputs": [
    {
     "data": {
      "text/plain": [
       "MUNICIPIO                                                                 185\n",
       "SOCIEDADE EMPRESARIA LIMITADA                                              52\n",
       "EMPRESA INDIVIDUAL DE RESPONSABILIDADE LIMITADA DE NATUREZA EMPRESARIA     42\n",
       "EMPRESARIO INDIVIDUAL                                                      36\n",
       "AUTARQUIA FEDERAL                                                          14\n",
       "ORGAO PUBLICO DO PODER LEGISLATIVO MUNICIPAL                               12\n",
       "ORGAO PUBLICO DO PODER EXECUTIVO FEDERAL                                   10\n",
       "ORGAO PUBLICO DO PODER EXECUTIVO MUNICIPAL                                  7\n",
       "FUNDACAO PUBLICA DE DIREITO PUBFEDERAL                                      5\n",
       "ORGAO PUBLICO DO PODER EXECUTIVO ESTADUAL OU DO DISTRITO FEDERAL            4\n",
       "SOCIEDADE ANONIMA FECHADA                                                   3\n",
       "EMPRESA PUBLICA                                                             3\n",
       "ORGAO PUBLICO DO PODER JUDICIARIO ESTADUAL                                  2\n",
       "FUNDO PUBLICO                                                               2\n",
       "SOCIEDADE ANONIMA ABERTA                                                    1\n",
       "ORGAO PUBLICO DO PODER LEGISLATIVO ESTADUAL OU DO DISTRITO FEDERAL          1\n",
       "CONSORCIO PUBDE DIREITO PUB ASS PUB                                         1\n",
       "ORGAO PUBLICO DO PODER LEGISLATIVO FEDERAL                                  1\n",
       "AUTARQUIA MUNICIPAL                                                         1\n",
       "ORGAO PUBLICO DO PODER JUDICIARIO FEDERAL                                   1\n",
       "AUTARQUIA ESTADUAL OU DO DISTRITO FEDERAL                                   1\n",
       "Name: de_natureza_juridica, dtype: int64"
      ]
     },
     "execution_count": 20,
     "metadata": {},
     "output_type": "execute_result"
    }
   ],
   "source": [
    "client2.de_natureza_juridica.value_counts()"
   ]
  },
  {
   "cell_type": "code",
   "execution_count": 21,
   "metadata": {},
   "outputs": [
    {
     "data": {
      "text/plain": [
       "SOCIEDADE EMPRESARIA LIMITADA                                             287\n",
       "MUNICIPIO                                                                 110\n",
       "EMPRESA INDIVIDUAL DE RESPONSABILIDADE LIMITADA DE NATUREZA EMPRESARIA     31\n",
       "SOCIEDADE ANONIMA FECHADA                                                  21\n",
       "ASSOCIACAO PRIVADA                                                         21\n",
       "ORGAO PUBLICO DO PODER EXECUTIVO ESTADUAL OU DO DISTRITO FEDERAL           19\n",
       "ORGAO PUBLICO DO PODER EXECUTIVO MUNICIPAL                                 12\n",
       "EMPRESARIO INDIVIDUAL                                                      10\n",
       "AUTARQUIA ESTADUAL OU DO DISTRITO FEDERAL                                   6\n",
       "SOCIEDADE SIMPLES LIMITADA                                                  6\n",
       "SERVICO SOCIAL AUTONOMO                                                     6\n",
       "FUNDO PUBLICO                                                               6\n",
       "COOPERATIVA                                                                 4\n",
       "AUTARQUIA MUNICIPAL                                                         3\n",
       "ORGAO PUBLICO DO PODER LEGISLATIVO MUNICIPAL                                3\n",
       "ENTIDADE SINDICAL                                                           3\n",
       "SOCIEDADE ANONIMA ABERTA                                                    3\n",
       "ORGAO PUBLICO DO PODER LEGISLATIVO ESTADUAL OU DO DISTRITO FEDERAL          3\n",
       "FUNDACAO PRIVADA                                                            2\n",
       "AUTARQUIA FEDERAL                                                           2\n",
       "CONDOMINIO EDILICIO                                                         2\n",
       "SOCIEDADE DE ECONOMIA MISTA                                                 2\n",
       "FUNDACAO PUBLICA DE DIREITO PUB MUNICIPAL                                   1\n",
       "ORGAO PUBLICO DO PODER EXECUTIVO FEDERAL                                    1\n",
       "ORGAO PUBLICO DO PODER JUDICIARIO FEDERAL                                   1\n",
       "ORGANIZACAO RELIGIOSA                                                       1\n",
       "Name: de_natureza_juridica, dtype: int64"
      ]
     },
     "execution_count": 21,
     "metadata": {},
     "output_type": "execute_result"
    }
   ],
   "source": [
    "portfolio_2.de_natureza_juridica.value_counts()"
   ]
  },
  {
   "cell_type": "code",
   "execution_count": 22,
   "metadata": {},
   "outputs": [
    {
     "data": {
      "text/plain": [
       "ADMINISTRACAO PUBLICA, DEFESA E SEGURIDADE SOCIAL    250\n",
       "INDUSTRIA DA CONSTRUCAO                              125\n",
       "BENS DE CONSUMO                                        6\n",
       "OUTROS                                                 3\n",
       "Name: de_ramo, dtype: int64"
      ]
     },
     "execution_count": 22,
     "metadata": {},
     "output_type": "execute_result"
    }
   ],
   "source": [
    "client2.de_ramo.value_counts()"
   ]
  },
  {
   "cell_type": "code",
   "execution_count": 23,
   "metadata": {},
   "outputs": [
    {
     "data": {
      "text/plain": [
       "ADMINISTRACAO PUBLICA, DEFESA E SEGURIDADE SOCIAL    163\n",
       "COMERCIO VAREJISTA                                    46\n",
       "INDUSTRIA DA CONSTRUCAO                               46\n",
       "SERVICOS ADMINISTRATIVOS                              42\n",
       "COMERCIO POR ATACADO                                  40\n",
       "SERVICOS DE EDUCACAO                                  33\n",
       "QUIMICA-PETROQUIMICA                                  27\n",
       "SERVICOS DE SAUDE                                     25\n",
       "TRANSPORTE, ARMAZENAGEM E CORREIO                     25\n",
       "COMERCIO E REPARACAO DE VEICULOS                      21\n",
       "BENS DE CONSUMO                                       19\n",
       "SERVICOS DIVERSOS                                     12\n",
       "SERVICOS DE ALOJAMENTO/ALIMENTACAO                    11\n",
       "PRODUTOS DE AGROPECUARIA                               8\n",
       "SERVICOS DE SANEAMENTO BASICO                          6\n",
       "SIDERURGICA-METALURGIA                                 6\n",
       "SERVICOS PROFISSIONAIS, TECNICOS E CIENTIFICOS         6\n",
       "TELECOM                                                4\n",
       "PAPEL E CELULOSE                                       4\n",
       "ELETROELETRONICOS                                      4\n",
       "ELETRICIDADE E GAS                                     3\n",
       "INDUSTRIA AUTOMOTIVA                                   3\n",
       "ATIVIDADES IMOBILIARIAS                                2\n",
       "INDUSTRIAS EXTRATIVAS                                  2\n",
       "SEGUROS, PLANOS DE PREVIDENCIA E PLANOS DE SAUDE       2\n",
       "INDUSTRIA DIGITAL                                      2\n",
       "SERVICOS FINANCEIROS                                   2\n",
       "TEXTEIS                                                1\n",
       "CULTURA, ESPORTE E RECREACAO                           1\n",
       "Name: de_ramo, dtype: int64"
      ]
     },
     "execution_count": 23,
     "metadata": {},
     "output_type": "execute_result"
    }
   ],
   "source": [
    "portfolio_2.de_ramo.value_counts()"
   ]
  },
  {
   "cell_type": "code",
   "execution_count": 24,
   "metadata": {},
   "outputs": [
    {
     "data": {
      "text/plain": [
       "SERVIÇO             250\n",
       "CONSTRUÇÃO CIVIL    125\n",
       "INDUSTRIA             6\n",
       "Name: setor, dtype: int64"
      ]
     },
     "execution_count": 24,
     "metadata": {},
     "output_type": "execute_result"
    }
   ],
   "source": [
    "client2.setor.value_counts()"
   ]
  },
  {
   "cell_type": "code",
   "execution_count": 25,
   "metadata": {},
   "outputs": [
    {
     "data": {
      "text/plain": [
       "SERVIÇO             336\n",
       "COMERCIO            107\n",
       "INDUSTRIA            69\n",
       "CONSTRUÇÃO CIVIL     46\n",
       "AGROPECUARIA          8\n",
       "Name: setor, dtype: int64"
      ]
     },
     "execution_count": 25,
     "metadata": {},
     "output_type": "execute_result"
    }
   ],
   "source": [
    "portfolio_2.setor.value_counts()"
   ]
  },
  {
   "cell_type": "code",
   "execution_count": 26,
   "metadata": {},
   "outputs": [
    {
     "data": {
      "text/plain": [
       "DE R$ 360.000,01 A R$ 1.500.000,00          143\n",
       "DE R$ 30.000.000,01 A R$ 100.000.000,00     102\n",
       "DE R$ 81.000,01 A R$ 360.000,00              67\n",
       "DE R$ 100.000.000,01 A R$ 300.000.000,00     27\n",
       "DE R$ 10.000.000,01 A R$ 30.000.000,00       22\n",
       "DE R$ 1.500.000,01 A R$ 4.800.000,00         14\n",
       "DE R$ 4.800.000,01 A R$ 10.000.000,00         5\n",
       "DE R$ 300.000.000,01 A R$ 500.000.000,00      2\n",
       "DE R$ 500.000.000,01 A 1 BILHAO DE REAIS      2\n",
       "Name: de_faixa_faturamento_estimado, dtype: int64"
      ]
     },
     "execution_count": 26,
     "metadata": {},
     "output_type": "execute_result"
    }
   ],
   "source": [
    "client2.de_faixa_faturamento_estimado.value_counts()"
   ]
  },
  {
   "cell_type": "code",
   "execution_count": 27,
   "metadata": {},
   "outputs": [
    {
     "data": {
      "text/plain": [
       "DE R$ 10.000.000,01 A R$ 30.000.000,00      278\n",
       "DE R$ 30.000.000,01 A R$ 100.000.000,00     202\n",
       "DE R$ 100.000.000,01 A R$ 300.000.000,00     58\n",
       "DE R$ 300.000.000,01 A R$ 500.000.000,00     15\n",
       "DE R$ 500.000.000,01 A 1 BILHAO DE REAIS      8\n",
       "ACIMA DE 1 BILHAO DE REAIS                    5\n",
       "Name: de_faixa_faturamento_estimado, dtype: int64"
      ]
     },
     "execution_count": 27,
     "metadata": {},
     "output_type": "execute_result"
    }
   ],
   "source": [
    "portfolio_2.de_faixa_faturamento_estimado.value_counts()"
   ]
  },
  {
   "cell_type": "code",
   "execution_count": 28,
   "metadata": {},
   "outputs": [
    {
     "data": {
      "text/plain": [
       "MA    157\n",
       "PI     83\n",
       "RN     54\n",
       "AM     53\n",
       "AC     31\n",
       "RO      6\n",
       "Name: sg_uf, dtype: int64"
      ]
     },
     "execution_count": 28,
     "metadata": {},
     "output_type": "execute_result"
    }
   ],
   "source": [
    "client2.sg_uf.value_counts()"
   ]
  },
  {
   "cell_type": "code",
   "execution_count": 29,
   "metadata": {},
   "outputs": [
    {
     "data": {
      "text/plain": [
       "AM    142\n",
       "MA    118\n",
       "PI    101\n",
       "RN    100\n",
       "RO     70\n",
       "AC     35\n",
       "Name: sg_uf, dtype: int64"
      ]
     },
     "execution_count": 29,
     "metadata": {},
     "output_type": "execute_result"
    }
   ],
   "source": [
    "portfolio_2.sg_uf.value_counts()"
   ]
  },
  {
   "cell_type": "code",
   "execution_count": 7,
   "metadata": {},
   "outputs": [
    {
     "data": {
      "text/plain": [
       "MUNICIPIO                                                                 193\n",
       "SOCIEDADE EMPRESARIA LIMITADA                                              39\n",
       "ORGAO PUBLICO DO PODER LEGISLATIVO MUNICIPAL                               15\n",
       "EMPRESA INDIVIDUAL DE RESPONSABILIDADE LIMITADA DE NATUREZA EMPRESARIA     15\n",
       "EMPRESARIO INDIVIDUAL                                                      14\n",
       "ORGAO PUBLICO DO PODER EXECUTIVO MUNICIPAL                                  7\n",
       "AUTARQUIA FEDERAL                                                           7\n",
       "ORGAO PUBLICO DO PODER EXECUTIVO FEDERAL                                    6\n",
       "FUNDACAO PUBLICA DE DIREITO PUBFEDERAL                                      4\n",
       "ORGAO PUBLICO DO PODER EXECUTIVO ESTADUAL OU DO DISTRITO FEDERAL            3\n",
       "ORGAO PUBLICO DO PODER JUDICIARIO ESTADUAL                                  2\n",
       "FUNDO PUBLICO                                                               2\n",
       "SOCIEDADE ANONIMA ABERTA                                                    1\n",
       "AUTARQUIA MUNICIPAL                                                         1\n",
       "SOCIEDADE ANONIMA FECHADA                                                   1\n",
       "ORGAO PUBLICO DO PODER JUDICIARIO FEDERAL                                   1\n",
       "ORGAO PUBLICO DO PODER LEGISLATIVO FEDERAL                                  1\n",
       "ORGAO PUBLICO DO PODER LEGISLATIVO ESTADUAL OU DO DISTRITO FEDERAL          1\n",
       "Name: de_natureza_juridica, dtype: int64"
      ]
     },
     "execution_count": 7,
     "metadata": {},
     "output_type": "execute_result"
    }
   ],
   "source": [
    "client3.de_natureza_juridica.value_counts()"
   ]
  },
  {
   "cell_type": "code",
   "execution_count": 8,
   "metadata": {},
   "outputs": [
    {
     "data": {
      "text/plain": [
       "MUNICIPIO                                                                 108\n",
       "SOCIEDADE EMPRESARIA LIMITADA                                              62\n",
       "ORGAO PUBLICO DO PODER EXECUTIVO ESTADUAL OU DO DISTRITO FEDERAL           20\n",
       "EMPRESA INDIVIDUAL DE RESPONSABILIDADE LIMITADA DE NATUREZA EMPRESARIA     13\n",
       "ORGAO PUBLICO DO PODER EXECUTIVO MUNICIPAL                                  9\n",
       "ASSOCIACAO PRIVADA                                                          8\n",
       "AUTARQUIA ESTADUAL OU DO DISTRITO FEDERAL                                   6\n",
       "SERVICO SOCIAL AUTONOMO                                                     5\n",
       "COOPERATIVA                                                                 4\n",
       "AUTARQUIA FEDERAL                                                           4\n",
       "FUNDACAO PUB DE DIREITO PUB EST OU DO DF                                    3\n",
       "ORGAO PUBLICO DO PODER LEGISLATIVO ESTADUAL OU DO DISTRITO FEDERAL          3\n",
       "EMPRESARIO INDIVIDUAL                                                       3\n",
       "ORGAO PUBLICO DO PODER JUDICIARIO FEDERAL                                   2\n",
       "SOCIEDADE SIMPLES LIMITADA                                                  2\n",
       "FUNDACAO PRIVADA                                                            2\n",
       "SOCIEDADE ANONIMA FECHADA                                                   2\n",
       "SOCIEDADE DE ECONOMIA MISTA                                                 2\n",
       "FUNDO PUBLICO                                                               1\n",
       "CONSORCIO DE SOCIEDADES                                                     1\n",
       "AUTARQUIA MUNICIPAL                                                         1\n",
       "CONDOMINIO EDILICIO                                                         1\n",
       "FUNDACAO PUBLICA DE DIREITO PUB MUNICIPAL                                   1\n",
       "ENTIDADE SINDICAL                                                           1\n",
       "ORGAO PUBLICO DO PODER JUDICIARIO ESTADUAL                                  1\n",
       "Name: de_natureza_juridica, dtype: int64"
      ]
     },
     "execution_count": 8,
     "metadata": {},
     "output_type": "execute_result"
    }
   ],
   "source": [
    "portfolio_3.de_natureza_juridica.value_counts()"
   ]
  },
  {
   "cell_type": "code",
   "execution_count": 9,
   "metadata": {},
   "outputs": [
    {
     "data": {
      "text/plain": [
       "ADMINISTRACAO PUBLICA, DEFESA E SEGURIDADE SOCIAL    243\n",
       "INDUSTRIA DA CONSTRUCAO                               66\n",
       "OUTROS                                                 3\n",
       "BENS DE CONSUMO                                        1\n",
       "Name: de_ramo, dtype: int64"
      ]
     },
     "execution_count": 9,
     "metadata": {},
     "output_type": "execute_result"
    }
   ],
   "source": [
    "client3.de_ramo.value_counts()"
   ]
  },
  {
   "cell_type": "code",
   "execution_count": 10,
   "metadata": {},
   "outputs": [
    {
     "data": {
      "text/plain": [
       "ADMINISTRACAO PUBLICA, DEFESA E SEGURIDADE SOCIAL    150\n",
       "SERVICOS ADMINISTRATIVOS                              35\n",
       "SERVICOS DE EDUCACAO                                  22\n",
       "TRANSPORTE, ARMAZENAGEM E CORREIO                     14\n",
       "SERVICOS DE SAUDE                                     13\n",
       "SERVICOS DE SANEAMENTO BASICO                          5\n",
       "SERVICOS PROFISSIONAIS, TECNICOS E CIENTIFICOS         5\n",
       "SERVICOS DE ALOJAMENTO/ALIMENTACAO                     5\n",
       "SERVICOS DIVERSOS                                      4\n",
       "TELECOM                                                3\n",
       "SEGUROS, PLANOS DE PREVIDENCIA E PLANOS DE SAUDE       3\n",
       "SERVICOS FINANCEIROS                                   2\n",
       "CULTURA, ESPORTE E RECREACAO                           1\n",
       "INDUSTRIA DIGITAL                                      1\n",
       "SERVICOS SOCIAIS                                       1\n",
       "ATIVIDADES IMOBILIARIAS                                1\n",
       "Name: de_ramo, dtype: int64"
      ]
     },
     "execution_count": 10,
     "metadata": {},
     "output_type": "execute_result"
    }
   ],
   "source": [
    "portfolio_3.de_ramo.value_counts()"
   ]
  },
  {
   "cell_type": "code",
   "execution_count": 11,
   "metadata": {},
   "outputs": [
    {
     "data": {
      "text/plain": [
       "SERVIÇO             243\n",
       "CONSTRUÇÃO CIVIL     66\n",
       "INDUSTRIA             1\n",
       "Name: setor, dtype: int64"
      ]
     },
     "execution_count": 11,
     "metadata": {},
     "output_type": "execute_result"
    }
   ],
   "source": [
    "client3.setor.value_counts()"
   ]
  },
  {
   "cell_type": "code",
   "execution_count": 12,
   "metadata": {},
   "outputs": [
    {
     "data": {
      "text/plain": [
       "SERVIÇO    265\n",
       "Name: setor, dtype: int64"
      ]
     },
     "execution_count": 12,
     "metadata": {},
     "output_type": "execute_result"
    }
   ],
   "source": [
    "portfolio_3.setor.value_counts()"
   ]
  },
  {
   "cell_type": "code",
   "execution_count": 13,
   "metadata": {},
   "outputs": [
    {
     "data": {
      "text/plain": [
       "DE R$ 360.000,01 A R$ 1.500.000,00          87\n",
       "DE R$ 30.000.000,01 A R$ 100.000.000,00     82\n",
       "DE R$ 100.000.000,01 A R$ 300.000.000,00    43\n",
       "DE R$ 81.000,01 A R$ 360.000,00             39\n",
       "DE R$ 10.000.000,01 A R$ 30.000.000,00      35\n",
       "DE R$ 1.500.000,01 A R$ 4.800.000,00        23\n",
       "DE R$ 4.800.000,01 A R$ 10.000.000,00        3\n",
       "DE R$ 300.000.000,01 A R$ 500.000.000,00     1\n",
       "Name: de_faixa_faturamento_estimado, dtype: int64"
      ]
     },
     "execution_count": 13,
     "metadata": {},
     "output_type": "execute_result"
    }
   ],
   "source": [
    "client3.de_faixa_faturamento_estimado.value_counts()"
   ]
  },
  {
   "cell_type": "code",
   "execution_count": 14,
   "metadata": {},
   "outputs": [
    {
     "data": {
      "text/plain": [
       "DE R$ 30.000.000,01 A R$ 100.000.000,00     138\n",
       "DE R$ 10.000.000,01 A R$ 30.000.000,00       61\n",
       "DE R$ 100.000.000,01 A R$ 300.000.000,00     49\n",
       "DE R$ 300.000.000,01 A R$ 500.000.000,00      9\n",
       "DE R$ 500.000.000,01 A 1 BILHAO DE REAIS      6\n",
       "ACIMA DE 1 BILHAO DE REAIS                    2\n",
       "Name: de_faixa_faturamento_estimado, dtype: int64"
      ]
     },
     "execution_count": 14,
     "metadata": {},
     "output_type": "execute_result"
    }
   ],
   "source": [
    "portfolio_3.de_faixa_faturamento_estimado.value_counts()"
   ]
  },
  {
   "cell_type": "code",
   "execution_count": 15,
   "metadata": {},
   "outputs": [
    {
     "data": {
      "text/plain": [
       "MA    119\n",
       "PI     82\n",
       "AM     49\n",
       "AC     32\n",
       "RN     27\n",
       "RO      4\n",
       "Name: sg_uf, dtype: int64"
      ]
     },
     "execution_count": 15,
     "metadata": {},
     "output_type": "execute_result"
    }
   ],
   "source": [
    "client3.sg_uf.value_counts()"
   ]
  },
  {
   "cell_type": "code",
   "execution_count": 16,
   "metadata": {},
   "outputs": [
    {
     "data": {
      "text/plain": [
       "MA    74\n",
       "PI    52\n",
       "RN    51\n",
       "AM    43\n",
       "AC    23\n",
       "RO    22\n",
       "Name: sg_uf, dtype: int64"
      ]
     },
     "execution_count": 16,
     "metadata": {},
     "output_type": "execute_result"
    }
   ],
   "source": [
    "portfolio_3.sg_uf.value_counts()"
   ]
  }
 ],
 "metadata": {
  "kernelspec": {
   "display_name": "Python 3",
   "language": "python",
   "name": "python3"
  },
  "language_info": {
   "codemirror_mode": {
    "name": "ipython",
    "version": 3
   },
   "file_extension": ".py",
   "mimetype": "text/x-python",
   "name": "python",
   "nbconvert_exporter": "python",
   "pygments_lexer": "ipython3",
   "version": "3.7.6"
  }
 },
 "nbformat": 4,
 "nbformat_minor": 4
}
